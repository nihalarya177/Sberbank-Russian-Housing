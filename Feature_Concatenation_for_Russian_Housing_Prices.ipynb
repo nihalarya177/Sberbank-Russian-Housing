{
 "cells": [
  {
   "cell_type": "code",
   "execution_count": 68,
   "metadata": {},
   "outputs": [],
   "source": [
    "import numpy as np # linear algebra\n",
    "import pandas as pd # data processing, CSV file I/O (e.g. pd.read_csv)\n",
    "import seaborn as sns\n",
    "import matplotlib.pyplot as plt\n",
    "import scipy.stats as stats\n",
    "import statsmodels.api as sm\n",
    "\n",
    "from math import ceil\n",
    "from sklearn.linear_model import LinearRegression\n",
    "from sklearn.feature_selection import mutual_info_regression\n",
    "from sklearn.feature_selection import SelectPercentile as SP\n",
    "from xgboost import XGBRegressor\n",
    "from sklearn.metrics import r2_score\n",
    "from sklearn.metrics import mean_squared_error as MSE\n",
    "from sklearn.model_selection import cross_val_score\n",
    "from sklearn.tree import DecisionTreeRegressor\n",
    "from sklearn.ensemble import GradientBoostingRegressor, RandomForestRegressor\n",
    "from xgboost import XGBRegressor\n",
    "from sklearn.model_selection import GridSearchCV\n",
    "import statsmodels.api as sm\n",
    "from statsmodels.stats.outliers_influence import variance_inflation_factor\n",
    "from tqdm import tqdm"
   ]
  },
  {
   "cell_type": "code",
   "execution_count": 377,
   "metadata": {},
   "outputs": [],
   "source": [
    "df = pd.read_csv('train.csv', index_col = 'id')\n",
    "\n",
    "X_test = pd.read_csv('test.csv', index_col='id')\n",
    "\n",
    "# Dropping the rows which have missing prediction values\n",
    "df = df.dropna(axis=0, subset=['price_doc'])\n",
    "\n",
    "y_train = df.price_doc\n",
    "X_train = df.drop(['price_doc'], axis = 1)"
   ]
  },
  {
   "cell_type": "code",
   "execution_count": 70,
   "metadata": {},
   "outputs": [
    {
     "data": {
      "text/plain": [
       "id\n",
       "30474    15.17\n",
       "30475    49.26\n",
       "30476    40.90\n",
       "30477    31.35\n",
       "30478    38.61\n",
       "         ...  \n",
       "38131    34.77\n",
       "38132    18.54\n",
       "38133     6.05\n",
       "38134    10.24\n",
       "38135     8.66\n",
       "Name: green_part_2000, Length: 7662, dtype: float64"
      ]
     },
     "execution_count": 70,
     "metadata": {},
     "output_type": "execute_result"
    }
   ],
   "source": [
    "X_test.green_part_2000"
   ]
  },
  {
   "cell_type": "code",
   "execution_count": 71,
   "metadata": {},
   "outputs": [
    {
     "data": {
      "text/html": [
       "<div>\n",
       "<style scoped>\n",
       "    .dataframe tbody tr th:only-of-type {\n",
       "        vertical-align: middle;\n",
       "    }\n",
       "\n",
       "    .dataframe tbody tr th {\n",
       "        vertical-align: top;\n",
       "    }\n",
       "\n",
       "    .dataframe thead th {\n",
       "        text-align: right;\n",
       "    }\n",
       "</style>\n",
       "<table border=\"1\" class=\"dataframe\">\n",
       "  <thead>\n",
       "    <tr style=\"text-align: right;\">\n",
       "      <th></th>\n",
       "      <th>market_count_5000</th>\n",
       "      <th>market_count_3000</th>\n",
       "      <th>market_count_2000</th>\n",
       "      <th>market_count_1500</th>\n",
       "      <th>market_count_1000</th>\n",
       "      <th>market_count_500</th>\n",
       "    </tr>\n",
       "  </thead>\n",
       "  <tbody>\n",
       "    <tr>\n",
       "      <th>market_count_5000</th>\n",
       "      <td>1.000000</td>\n",
       "      <td>0.790549</td>\n",
       "      <td>0.581023</td>\n",
       "      <td>0.473395</td>\n",
       "      <td>0.363342</td>\n",
       "      <td>0.256790</td>\n",
       "    </tr>\n",
       "    <tr>\n",
       "      <th>market_count_3000</th>\n",
       "      <td>0.790549</td>\n",
       "      <td>1.000000</td>\n",
       "      <td>0.768959</td>\n",
       "      <td>0.625851</td>\n",
       "      <td>0.470855</td>\n",
       "      <td>0.314709</td>\n",
       "    </tr>\n",
       "    <tr>\n",
       "      <th>market_count_2000</th>\n",
       "      <td>0.581023</td>\n",
       "      <td>0.768959</td>\n",
       "      <td>1.000000</td>\n",
       "      <td>0.855601</td>\n",
       "      <td>0.665947</td>\n",
       "      <td>0.411397</td>\n",
       "    </tr>\n",
       "    <tr>\n",
       "      <th>market_count_1500</th>\n",
       "      <td>0.473395</td>\n",
       "      <td>0.625851</td>\n",
       "      <td>0.855601</td>\n",
       "      <td>1.000000</td>\n",
       "      <td>0.773842</td>\n",
       "      <td>0.479010</td>\n",
       "    </tr>\n",
       "    <tr>\n",
       "      <th>market_count_1000</th>\n",
       "      <td>0.363342</td>\n",
       "      <td>0.470855</td>\n",
       "      <td>0.665947</td>\n",
       "      <td>0.773842</td>\n",
       "      <td>1.000000</td>\n",
       "      <td>0.606724</td>\n",
       "    </tr>\n",
       "    <tr>\n",
       "      <th>market_count_500</th>\n",
       "      <td>0.256790</td>\n",
       "      <td>0.314709</td>\n",
       "      <td>0.411397</td>\n",
       "      <td>0.479010</td>\n",
       "      <td>0.606724</td>\n",
       "      <td>1.000000</td>\n",
       "    </tr>\n",
       "  </tbody>\n",
       "</table>\n",
       "</div>"
      ],
      "text/plain": [
       "                   market_count_5000  market_count_3000  market_count_2000  \\\n",
       "market_count_5000           1.000000           0.790549           0.581023   \n",
       "market_count_3000           0.790549           1.000000           0.768959   \n",
       "market_count_2000           0.581023           0.768959           1.000000   \n",
       "market_count_1500           0.473395           0.625851           0.855601   \n",
       "market_count_1000           0.363342           0.470855           0.665947   \n",
       "market_count_500            0.256790           0.314709           0.411397   \n",
       "\n",
       "                   market_count_1500  market_count_1000  market_count_500  \n",
       "market_count_5000           0.473395           0.363342          0.256790  \n",
       "market_count_3000           0.625851           0.470855          0.314709  \n",
       "market_count_2000           0.855601           0.665947          0.411397  \n",
       "market_count_1500           1.000000           0.773842          0.479010  \n",
       "market_count_1000           0.773842           1.000000          0.606724  \n",
       "market_count_500            0.479010           0.606724          1.000000  "
      ]
     },
     "execution_count": 71,
     "metadata": {},
     "output_type": "execute_result"
    }
   ],
   "source": [
    "X_markets = X_train[['market_count_5000', 'market_count_3000', 'market_count_2000', 'market_count_1500', 'market_count_1000', 'market_count_500']]\n",
    "X_markets.corr()"
   ]
  },
  {
   "cell_type": "code",
   "execution_count": 72,
   "metadata": {},
   "outputs": [],
   "source": [
    "df['market_count_5000'] = df['market_count_5000'] - df['market_count_3000']\n",
    "df['market_count_3000'] = df['market_count_3000'] - df['market_count_2000']\n",
    "df['market_count_2000'] = df['market_count_2000'] - df['market_count_1500']\n",
    "df['market_count_1500'] = df['market_count_1500'] - df['market_count_1000']\n",
    "df['market_count_1000'] = df['market_count_1000'] - df['market_count_500']"
   ]
  },
  {
   "cell_type": "code",
   "execution_count": 73,
   "metadata": {},
   "outputs": [
    {
     "data": {
      "text/html": [
       "<div>\n",
       "<style scoped>\n",
       "    .dataframe tbody tr th:only-of-type {\n",
       "        vertical-align: middle;\n",
       "    }\n",
       "\n",
       "    .dataframe tbody tr th {\n",
       "        vertical-align: top;\n",
       "    }\n",
       "\n",
       "    .dataframe thead th {\n",
       "        text-align: right;\n",
       "    }\n",
       "</style>\n",
       "<table border=\"1\" class=\"dataframe\">\n",
       "  <thead>\n",
       "    <tr style=\"text-align: right;\">\n",
       "      <th></th>\n",
       "      <th>market_count_5000</th>\n",
       "      <th>market_count_3000</th>\n",
       "      <th>market_count_2000</th>\n",
       "      <th>market_count_1500</th>\n",
       "      <th>market_count_1000</th>\n",
       "      <th>market_count_500</th>\n",
       "    </tr>\n",
       "  </thead>\n",
       "  <tbody>\n",
       "    <tr>\n",
       "      <th>market_count_5000</th>\n",
       "      <td>1.000000</td>\n",
       "      <td>0.406967</td>\n",
       "      <td>0.223655</td>\n",
       "      <td>0.196833</td>\n",
       "      <td>0.152078</td>\n",
       "      <td>0.159390</td>\n",
       "    </tr>\n",
       "    <tr>\n",
       "      <th>market_count_3000</th>\n",
       "      <td>0.406967</td>\n",
       "      <td>1.000000</td>\n",
       "      <td>0.206479</td>\n",
       "      <td>0.124705</td>\n",
       "      <td>0.038776</td>\n",
       "      <td>0.083889</td>\n",
       "    </tr>\n",
       "    <tr>\n",
       "      <th>market_count_2000</th>\n",
       "      <td>0.223655</td>\n",
       "      <td>0.206479</td>\n",
       "      <td>1.000000</td>\n",
       "      <td>0.101866</td>\n",
       "      <td>0.098854</td>\n",
       "      <td>0.071359</td>\n",
       "    </tr>\n",
       "    <tr>\n",
       "      <th>market_count_1500</th>\n",
       "      <td>0.196833</td>\n",
       "      <td>0.124705</td>\n",
       "      <td>0.101866</td>\n",
       "      <td>1.000000</td>\n",
       "      <td>0.145249</td>\n",
       "      <td>0.127205</td>\n",
       "    </tr>\n",
       "    <tr>\n",
       "      <th>market_count_1000</th>\n",
       "      <td>0.152078</td>\n",
       "      <td>0.038776</td>\n",
       "      <td>0.098854</td>\n",
       "      <td>0.145249</td>\n",
       "      <td>1.000000</td>\n",
       "      <td>0.074969</td>\n",
       "    </tr>\n",
       "    <tr>\n",
       "      <th>market_count_500</th>\n",
       "      <td>0.159390</td>\n",
       "      <td>0.083889</td>\n",
       "      <td>0.071359</td>\n",
       "      <td>0.127205</td>\n",
       "      <td>0.074969</td>\n",
       "      <td>1.000000</td>\n",
       "    </tr>\n",
       "  </tbody>\n",
       "</table>\n",
       "</div>"
      ],
      "text/plain": [
       "                   market_count_5000  market_count_3000  market_count_2000  \\\n",
       "market_count_5000           1.000000           0.406967           0.223655   \n",
       "market_count_3000           0.406967           1.000000           0.206479   \n",
       "market_count_2000           0.223655           0.206479           1.000000   \n",
       "market_count_1500           0.196833           0.124705           0.101866   \n",
       "market_count_1000           0.152078           0.038776           0.098854   \n",
       "market_count_500            0.159390           0.083889           0.071359   \n",
       "\n",
       "                   market_count_1500  market_count_1000  market_count_500  \n",
       "market_count_5000           0.196833           0.152078          0.159390  \n",
       "market_count_3000           0.124705           0.038776          0.083889  \n",
       "market_count_2000           0.101866           0.098854          0.071359  \n",
       "market_count_1500           1.000000           0.145249          0.127205  \n",
       "market_count_1000           0.145249           1.000000          0.074969  \n",
       "market_count_500            0.127205           0.074969          1.000000  "
      ]
     },
     "execution_count": 73,
     "metadata": {},
     "output_type": "execute_result"
    }
   ],
   "source": [
    "X_markets = X_train[['market_count_5000', 'market_count_3000', 'market_count_2000', 'market_count_1500', 'market_count_1000', 'market_count_500']]\n",
    "X_markets.corr()"
   ]
  },
  {
   "cell_type": "code",
   "execution_count": 74,
   "metadata": {},
   "outputs": [],
   "source": [
    "df['sport_count_5000'] = df['sport_count_5000'] - df['sport_count_3000']\n",
    "df['sport_count_3000'] = df['sport_count_3000'] - df['sport_count_2000']\n",
    "df['sport_count_2000'] = df['sport_count_2000'] - df['sport_count_1500']\n",
    "df['sport_count_1500'] = df['sport_count_1500'] - df['sport_count_1000']\n",
    "df['sport_count_1000'] = df['sport_count_1000'] - df['sport_count_500']"
   ]
  },
  {
   "cell_type": "code",
   "execution_count": 75,
   "metadata": {},
   "outputs": [],
   "source": [
    "df['leisure_count_5000'] = df['leisure_count_5000'] - df['leisure_count_3000']\n",
    "df['leisure_count_3000'] = df['leisure_count_3000'] - df['leisure_count_2000']\n",
    "df['leisure_count_2000'] = df['leisure_count_2000'] - df['leisure_count_1500']\n",
    "df['leisure_count_1500'] = df['leisure_count_1500'] - df['leisure_count_1000']\n",
    "df['leisure_count_1000'] = df['leisure_count_1000'] - df['leisure_count_500']"
   ]
  },
  {
   "cell_type": "code",
   "execution_count": 193,
   "metadata": {},
   "outputs": [],
   "source": [
    "df['church_count_5000'] = df['church_count_5000'] - df['church_count_3000']\n",
    "df['church_count_3000'] = df['church_count_3000'] - df['church_count_2000']\n",
    "df['church_count_2000'] = df['church_count_2000'] - df['church_count_1500']\n",
    "df['church_count_1500'] = df['church_count_1500'] - df['church_count_1000']\n",
    "df['church_count_1000'] = df['church_count_1000'] - df['church_count_500']"
   ]
  },
  {
   "cell_type": "code",
   "execution_count": null,
   "metadata": {},
   "outputs": [],
   "source": [
    "df['small_church_count_5000'] = df['church_count_5000']-df['big_church_count_5000']\n",
    "df['total_church_count_5000'] = 1.1*df['big_church_count_5000']+0.9*df['small_church_count_5000']\n",
    "\n",
    "df['small_church_count_3000'] = df['church_count_3000']-df['big_church_count_3000']\n",
    "df['total_church_count_3000'] = 1.1*df['big_church_count_3000']+0.9*df['small_church_count_3000']\n",
    "\n",
    "df['small_church_count_2000'] = df['church_count_2000']-df['big_church_count_2000']\n",
    "df['total_church_count_2000'] = 1.1*df['big_church_count_2000']+0.9*df['small_church_count_2000']\n",
    "\n",
    "df['small_church_count_1500'] = df['church_count_1500']-df['big_church_count_1500']\n",
    "df['total_church_count_1500'] = 1.1*df['big_church_count_1500']+0.9*df['small_church_count_1500']\n",
    "\n",
    "df['small_church_count_1000'] = df['church_count_1000']-df['big_church_count_1000']\n",
    "df['total_church_count_1000'] = 1.1*df['big_church_count_1000']+0.9*df['small_church_count_1000']\n",
    "\n",
    "df['small_church_count_500'] = df['church_count_500']-df['big_church_count_500']\n",
    "df['total_church_count_500'] = 1.1*df['big_church_count_500']+0.9*df['small_church_count_500']"
   ]
  },
  {
   "cell_type": "code",
   "execution_count": null,
   "metadata": {},
   "outputs": [],
   "source": [
    "df['cafe_count_5000'] = df['cafe_count_5000'] - df['cafe_count_3000']\n",
    "df['cafe_count_3000'] = df['cafe_count_3000'] - df['cafe_count_2000']\n",
    "df['cafe_count_2000'] = df['cafe_count_2000'] - df['cafe_count_1500']\n",
    "df['cafe_count_1500'] = df['cafe_count_1500'] - df['cafe_count_1000']\n",
    "df['cafe_count_1000'] = df['cafe_count_1000'] - df['cafe_count_500']"
   ]
  },
  {
   "cell_type": "code",
   "execution_count": 241,
   "metadata": {},
   "outputs": [],
   "source": [
    "df['green_part_5000'] = df['green_part_5000'] - df['green_part_3000']\n",
    "df['green_part_3000'] = df['green_part_3000'] - df['green_part_2000']\n",
    "df['green_part_2000'] = df['green_part_2000'] - df['green_part_1500']\n",
    "df['green_part_1500'] = df['green_part_1500'] - df['green_part_1000']\n",
    "df['green_part_1000'] = df['green_part_1000'] - df['green_part_500']"
   ]
  },
  {
   "cell_type": "code",
   "execution_count": 238,
   "metadata": {},
   "outputs": [],
   "source": [
    "df['office_count_5000'] = df['office_count_5000'] - df['office_count_3000']\n",
    "df['office_count_3000'] = df['office_count_3000'] - df['office_count_2000']\n",
    "df['office_count_2000'] = df['office_count_2000'] - df['office_count_1500']\n",
    "df['office_count_1500'] = df['office_count_1500'] - df['office_count_1000']\n",
    "df['office_count_1000'] = df['office_count_1000'] - df['office_count_500']"
   ]
  },
  {
   "cell_type": "code",
   "execution_count": 252,
   "metadata": {},
   "outputs": [],
   "source": [
    "df['office_sqm_5000'] = df['office_sqm_5000'] - df['office_sqm_3000']\n",
    "df['office_sqm_3000'] = df['office_sqm_3000'] - df['office_sqm_2000']\n",
    "df['office_sqm_2000'] = df['office_sqm_2000'] - df['office_sqm_1500']\n",
    "df['office_sqm_1500'] = df['office_sqm_1500'] - df['office_sqm_1000']\n",
    "df['office_sqm_1000'] = df['office_sqm_1000'] - df['office_sqm_500']"
   ]
  },
  {
   "cell_type": "code",
   "execution_count": null,
   "metadata": {},
   "outputs": [],
   "source": [
    "df['office_avg_5000'] = df['office_sqm_5000']/df['office_count_5000']\n",
    "df['office_avg_3000'] = df['office_sqm_3000']/df['office_count_3000']\n",
    "df['office_avg_2000'] = df['office_sqm_2000']/df['office_count_2000']\n",
    "df['office_avg_1500'] = df['office_sqm_1500']/df['office_count_1500']\n",
    "df['office_avg_1000'] = df['office_sqm_1000']/df['office_count_1000']"
   ]
  },
  {
   "cell_type": "code",
   "execution_count": null,
   "metadata": {},
   "outputs": [],
   "source": [
    "df['prom_part_5000'] = df['prom_part_5000'] - df['prom_part_3000']\n",
    "df['prom_part_3000'] = df['prom_part_3000'] - df['prom_part_2000']\n",
    "df['prom_part_2000'] = df['prom_part_2000'] - df['prom_part_1500']\n",
    "df['prom_part_1500'] = df['prom_part_1500'] - df['prom_part_1000']\n",
    "df['prom_part_1000'] = df['prom_part_1000'] - df['prom_part_500']"
   ]
  },
  {
   "cell_type": "code",
   "execution_count": null,
   "metadata": {},
   "outputs": [],
   "source": [
    "df['trc_count_5000'] = df['trc_count_5000'] - df['trc_count_3000']\n",
    "df['trc_count_3000'] = df['trc_count_3000'] - df['trc_count_2000']\n",
    "df['trc_count_2000'] = df['trc_count_2000'] - df['trc_count_1500']\n",
    "df['trc_count_1500'] = df['trc_count_1500'] - df['trc_count_1000']\n",
    "df['trc_count_1000'] = df['trc_count_1000'] - df['trc_count_500']"
   ]
  },
  {
   "cell_type": "code",
   "execution_count": null,
   "metadata": {},
   "outputs": [],
   "source": [
    "df['trc_sqm_5000'] = df['trc_sqm_5000'] - df['trc_sqm_3000']\n",
    "df['trc_sqm_3000'] = df['trc_sqm_3000'] - df['trc_sqm_2000']\n",
    "df['trc_sqm_2000'] = df['trc_sqm_2000'] - df['trc_sqm_1500']\n",
    "df['trc_sqm_1500'] = df['trc_sqm_1500'] - df['trc_sqm_1000']\n",
    "df['trc_sqm_1000'] = df['trc_sqm_1000'] - df['trc_sqm_500']"
   ]
  },
  {
   "cell_type": "code",
   "execution_count": null,
   "metadata": {},
   "outputs": [],
   "source": [
    "df['trc_avg_5000'] = df['trc_sqm_5000']/df['trc_count_5000']\n",
    "df['trc_avg_3000'] = df['trc_sqm_3000']/df['trc_count_3000']\n",
    "df['trc_avg_2000'] = df['trc_sqm_2000']/df['trc_count_2000']\n",
    "df['trc_avg_1500'] = df['trc_sqm_1500']/df['trc_count_1500']\n",
    "df['trc_avg_1000'] = df['trc_sqm_1000']/df['trc_count_1000']"
   ]
  },
  {
   "cell_type": "code",
   "execution_count": 234,
   "metadata": {},
   "outputs": [
    {
     "data": {
      "text/plain": [
       "0.7528232995105633"
      ]
     },
     "execution_count": 234,
     "metadata": {},
     "output_type": "execute_result"
    }
   ],
   "source": [
    "X_train.trc_sqm_500.corr(X_train.trc_count_500)"
   ]
  },
  {
   "cell_type": "code",
   "execution_count": 244,
   "metadata": {},
   "outputs": [
    {
     "data": {
      "text/plain": [
       "0.0009599164168327278"
      ]
     },
     "execution_count": 244,
     "metadata": {},
     "output_type": "execute_result"
    }
   ],
   "source": [
    "X_train.green_part_1000.corr(y_train)"
   ]
  },
  {
   "cell_type": "code",
   "execution_count": 267,
   "metadata": {},
   "outputs": [
    {
     "data": {
      "text/plain": [
       "nan"
      ]
     },
     "execution_count": 267,
     "metadata": {},
     "output_type": "execute_result"
    }
   ],
   "source": [
    "X_train.avg_office_size.corr(y_train)"
   ]
  },
  {
   "cell_type": "code",
   "execution_count": 262,
   "metadata": {},
   "outputs": [],
   "source": [
    "X_train['avg_office_size'] = X_train['office_sqm_5000']/X_train['office_count_5000']"
   ]
  },
  {
   "cell_type": "code",
   "execution_count": 211,
   "metadata": {},
   "outputs": [],
   "source": [
    "X_train['total_church_count_5000'] = 1.1*X_train['big_church_count_5000']+0.9*X_train['small_church_count_5000']"
   ]
  },
  {
   "cell_type": "code",
   "execution_count": 210,
   "metadata": {},
   "outputs": [
    {
     "data": {
      "text/plain": [
       "0.2698825655778925"
      ]
     },
     "execution_count": 210,
     "metadata": {},
     "output_type": "execute_result"
    }
   ],
   "source": [
    "X_train.total_church_count_5000.corr(y_train)"
   ]
  },
  {
   "cell_type": "code",
   "execution_count": 170,
   "metadata": {},
   "outputs": [
    {
     "data": {
      "text/plain": [
       "-0.08261410128650946"
      ]
     },
     "execution_count": 170,
     "metadata": {},
     "output_type": "execute_result"
    }
   ],
   "source": [
    "X_train.indust_part.corr(y_train)"
   ]
  },
  {
   "cell_type": "code",
   "execution_count": 239,
   "metadata": {},
   "outputs": [
    {
     "data": {
      "text/plain": [
       "0.2657949156567468"
      ]
     },
     "execution_count": 239,
     "metadata": {},
     "output_type": "execute_result"
    }
   ],
   "source": [
    "X_train.office_count_5000.corr(y_train)"
   ]
  },
  {
   "cell_type": "code",
   "execution_count": 118,
   "metadata": {},
   "outputs": [
    {
     "data": {
      "text/plain": [
       "0.2315455504501285"
      ]
     },
     "execution_count": 118,
     "metadata": {},
     "output_type": "execute_result"
    }
   ],
   "source": [
    "X_train.cafe_count_5000.corr(y_train)"
   ]
  },
  {
   "cell_type": "code",
   "execution_count": 129,
   "metadata": {},
   "outputs": [
    {
     "data": {
      "text/plain": [
       "0.21924864733837932"
      ]
     },
     "execution_count": 129,
     "metadata": {},
     "output_type": "execute_result"
    }
   ],
   "source": [
    "X_train.office_count_5000.corr(y_train)"
   ]
  },
  {
   "cell_type": "code",
   "execution_count": 130,
   "metadata": {},
   "outputs": [
    {
     "data": {
      "text/plain": [
       "0.26997677589841385"
      ]
     },
     "execution_count": 130,
     "metadata": {},
     "output_type": "execute_result"
    }
   ],
   "source": [
    "X_train.office_sqm_5000.corr(y_train)"
   ]
  },
  {
   "cell_type": "code",
   "execution_count": 127,
   "metadata": {},
   "outputs": [
    {
     "data": {
      "text/plain": [
       "id\n",
       "1    4036616\n",
       "Name: trc_sqm_5000, dtype: int64"
      ]
     },
     "execution_count": 127,
     "metadata": {},
     "output_type": "execute_result"
    }
   ],
   "source": [
    "X_train['trc_sqm_5000'].head(1)"
   ]
  },
  {
   "cell_type": "code",
   "execution_count": 128,
   "metadata": {},
   "outputs": [
    {
     "data": {
      "text/plain": [
       "id\n",
       "1    52\n",
       "Name: trc_count_5000, dtype: int64"
      ]
     },
     "execution_count": 128,
     "metadata": {},
     "output_type": "execute_result"
    }
   ],
   "source": [
    "X_train['trc_count_5000'].head(1)"
   ]
  },
  {
   "cell_type": "code",
   "execution_count": 132,
   "metadata": {},
   "outputs": [
    {
     "data": {
      "text/plain": [
       "-0.14479169259037197"
      ]
     },
     "execution_count": 132,
     "metadata": {},
     "output_type": "execute_result"
    }
   ],
   "source": [
    "X_train.avg_office_size.corr(y_train)"
   ]
  },
  {
   "cell_type": "code",
   "execution_count": 171,
   "metadata": {},
   "outputs": [],
   "source": [
    "X_train['environmental_condition_5000'] = X_train['green_zone_part'] - X_train['indust_part']"
   ]
  },
  {
   "cell_type": "code",
   "execution_count": 172,
   "metadata": {},
   "outputs": [
    {
     "data": {
      "text/plain": [
       "-0.026124357701811388"
      ]
     },
     "execution_count": 172,
     "metadata": {},
     "output_type": "execute_result"
    }
   ],
   "source": [
    "X_train.environmental_condition_5000.corr(y_train)"
   ]
  },
  {
   "cell_type": "code",
   "execution_count": 98,
   "metadata": {},
   "outputs": [
    {
     "data": {
      "text/plain": [
       "0     26270\n",
       "1      2843\n",
       "9       610\n",
       "2       447\n",
       "3       124\n",
       "4       105\n",
       "5        42\n",
       "7        12\n",
       "6         8\n",
       "10        4\n",
       "8         3\n",
       "13        2\n",
       "11        1\n",
       "Name: cafe_count_500_na_price, dtype: int64"
      ]
     },
     "execution_count": 98,
     "metadata": {},
     "output_type": "execute_result"
    }
   ],
   "source": [
    "X_train.cafe_count_500_na_price.value_counts()"
   ]
  },
  {
   "cell_type": "code",
   "execution_count": 80,
   "metadata": {},
   "outputs": [
    {
     "data": {
      "text/plain": [
       "id\n",
       "1         13\n",
       "2         15\n",
       "3         11\n",
       "4          4\n",
       "5        135\n",
       "        ... \n",
       "30469     15\n",
       "30470     98\n",
       "30471      2\n",
       "30472      6\n",
       "30473      7\n",
       "Name: big_church_count_5000, Length: 30471, dtype: int64"
      ]
     },
     "execution_count": 80,
     "metadata": {},
     "output_type": "execute_result"
    }
   ],
   "source": [
    "X_train[church_count] = X_train['big_church_count']"
   ]
  },
  {
   "cell_type": "code",
   "execution_count": 81,
   "metadata": {},
   "outputs": [
    {
     "data": {
      "text/plain": [
       "id\n",
       "1         18\n",
       "2         22\n",
       "3         16\n",
       "4          2\n",
       "5        115\n",
       "        ... \n",
       "30469     14\n",
       "30470    120\n",
       "30471      8\n",
       "30472     14\n",
       "30473      9\n",
       "Name: church_count_5000, Length: 30471, dtype: int64"
      ]
     },
     "execution_count": 81,
     "metadata": {},
     "output_type": "execute_result"
    }
   ],
   "source": [
    "X_train.church_count_5000"
   ]
  },
  {
   "cell_type": "code",
   "execution_count": 228,
   "metadata": {},
   "outputs": [
    {
     "data": {
      "text/plain": [
       "0.9979626304210566"
      ]
     },
     "execution_count": 228,
     "metadata": {},
     "output_type": "execute_result"
    }
   ],
   "source": [
    "X_train.cafe_count_5000_price_500.corr(X_train.cafe_count_5000)"
   ]
  },
  {
   "cell_type": "code",
   "execution_count": 217,
   "metadata": {},
   "outputs": [
    {
     "data": {
      "text/plain": [
       "id\n",
       "1         0\n",
       "2         0\n",
       "3         0\n",
       "4         1\n",
       "5        17\n",
       "         ..\n",
       "30469     0\n",
       "30470    24\n",
       "30471     0\n",
       "30472     1\n",
       "30473     0\n",
       "Name: cafe_count_5000_price_high, Length: 30471, dtype: int64"
      ]
     },
     "execution_count": 217,
     "metadata": {},
     "output_type": "execute_result"
    }
   ],
   "source": [
    "X_train.cafe_count_5000_price_high."
   ]
  },
  {
   "cell_type": "code",
   "execution_count": 218,
   "metadata": {},
   "outputs": [
    {
     "data": {
      "text/plain": [
       "id\n",
       "1          4\n",
       "2          3\n",
       "3          3\n",
       "4          2\n",
       "5        108\n",
       "        ... \n",
       "30469      5\n",
       "30470    128\n",
       "30471      1\n",
       "30472      1\n",
       "30473      2\n",
       "Name: cafe_count_5000_price_4000, Length: 30471, dtype: int64"
      ]
     },
     "execution_count": 218,
     "metadata": {},
     "output_type": "execute_result"
    }
   ],
   "source": [
    "X_train.cafe_count_5000_price_4000"
   ]
  },
  {
   "cell_type": "code",
   "execution_count": 220,
   "metadata": {},
   "outputs": [
    {
     "data": {
      "text/plain": [
       "id\n",
       "1          9\n",
       "2         15\n",
       "3         10\n",
       "4         11\n",
       "5        319\n",
       "        ... \n",
       "30469     15\n",
       "30470    313\n",
       "30471      1\n",
       "30472     22\n",
       "30473      5\n",
       "Name: cafe_count_5000_price_2500, Length: 30471, dtype: int64"
      ]
     },
     "execution_count": 220,
     "metadata": {},
     "output_type": "execute_result"
    }
   ],
   "source": [
    "X_train.cafe_count_5000_price_2500"
   ]
  },
  {
   "cell_type": "code",
   "execution_count": 268,
   "metadata": {},
   "outputs": [],
   "source": [
    "columns_to_drop = ['cafe_sum_5000_min_price_avg', 'cafe_sum_5000_max_price_avg', 'cafe_sum_3000_min_price_avg', 'cafe_sum_3000_max_price_avg', 'cafe_sum_2000_min_price_avg', 'cafe_sum_2000_max_price_avg', 'cafe_sum_1500_min_price_avg', 'cafe_sum_1500_max_price_avg', 'cafe_sum_1000_min_price_avg', 'cafe_sum_1000_max_price_avg', 'cafe_sum_500_min_price_avg', 'cafe_sum_500_max_price_avg', 'cafe_count_5000_price_500', 'cafe_count_5000_price_1000','cafe_count_5000_price_2500', 'cafe_count_5000_price_4000', 'cafe_count_5000_price_high', 'cafe_count_3000_price_500', 'cafe_count_3000_price_1000','cafe_count_3000_price_2500', 'cafe_count_3000_price_4000', 'cafe_count_3000_price_high', 'cafe_count_2000_price_500', 'cafe_count_2000_price_1000','cafe_count_2000_price_2500', 'cafe_count_2000_price_4000', 'cafe_count_2000_price_high', 'cafe_count_1500_price_500', 'cafe_count_1500_price_1000','cafe_count_1500_price_2500', 'cafe_count_1500_price_4000', 'cafe_count_1500_price_high', 'cafe_count_1000_price_500', 'cafe_count_1000_price_1000','cafe_count_1000_price_2500', 'cafe_count_1000_price_4000', 'cafe_count_1000_price_high', 'cafe_count_500_price_500', 'cafe_count_500_price_500','cafe_count_500_price_2500', 'cafe_count_500_price_4000', 'cafe_count_500_price_high', 'mosque_count_5000', 'mosque_count_3000', 'mosque_count_2000', 'mosque_count_1500', 'mosque_count_1000', 'mosque_count_500']"
   ]
  },
  {
   "cell_type": "code",
   "execution_count": 269,
   "metadata": {},
   "outputs": [],
   "source": [
    "X_train['activities_count_5000'] = 1.75*X_train['leisure_count_5000'] + X_train['sport_count_5000'] \n",
    "X_train['activities_count_3000'] = 1.75*X_train['leisure_count_3000'] + X_train['sport_count_3000']\n",
    "X_train['activities_count_2000'] = 1.75*X_train['leisure_count_2000'] + X_train['sport_count_2000']\n",
    "X_train['activities_count_1500'] = 1.75*X_train['leisure_count_1500'] + X_train['sport_count_1500']\n",
    "X_train['activities_count_1000'] = 1.75*X_train['leisure_count_1000'] + X_train['sport_count_1000']\n",
    "X_train['activities_count_500'] = 1.75*X_train['leisure_count_500'] + X_train['sport_count_500']"
   ]
  },
  {
   "cell_type": "code",
   "execution_count": 436,
   "metadata": {},
   "outputs": [],
   "source": [
    "X_train['shopping_count_5000'] = X_train['market_count_5000'] + X_train['trc_count_5000']"
   ]
  },
  {
   "cell_type": "code",
   "execution_count": 437,
   "metadata": {},
   "outputs": [
    {
     "data": {
      "text/plain": [
       "0.2825342142060361"
      ]
     },
     "execution_count": 437,
     "metadata": {},
     "output_type": "execute_result"
    }
   ],
   "source": [
    "X_train.shopping_count_5000.corr(y_train)"
   ]
  },
  {
   "cell_type": "code",
   "execution_count": 438,
   "metadata": {},
   "outputs": [
    {
     "data": {
      "text/plain": [
       "0.19402068877457698"
      ]
     },
     "execution_count": 438,
     "metadata": {},
     "output_type": "execute_result"
    }
   ],
   "source": [
    "X_train.market_count_5000.corr(y_train)"
   ]
  },
  {
   "cell_type": "code",
   "execution_count": 439,
   "metadata": {},
   "outputs": [
    {
     "data": {
      "text/plain": [
       "0.2893709109303365"
      ]
     },
     "execution_count": 439,
     "metadata": {},
     "output_type": "execute_result"
    }
   ],
   "source": [
    "X_train.trc_count_5000.corr(y_train)"
   ]
  },
  {
   "cell_type": "code",
   "execution_count": 442,
   "metadata": {},
   "outputs": [
    {
     "data": {
      "text/plain": [
       "0.9936919150949283"
      ]
     },
     "execution_count": 442,
     "metadata": {},
     "output_type": "execute_result"
    }
   ],
   "source": [
    "X_train.trc_count_5000.corr(X_train.shopping_count_5000)"
   ]
  },
  {
   "cell_type": "code",
   "execution_count": null,
   "metadata": {},
   "outputs": [],
   "source": []
  }
 ],
 "metadata": {
  "kernelspec": {
   "display_name": "Python 3",
   "language": "python",
   "name": "python3"
  },
  "language_info": {
   "codemirror_mode": {
    "name": "ipython",
    "version": 3
   },
   "file_extension": ".py",
   "mimetype": "text/x-python",
   "name": "python",
   "nbconvert_exporter": "python",
   "pygments_lexer": "ipython3",
   "version": "3.8.3"
  }
 },
 "nbformat": 4,
 "nbformat_minor": 4
}
