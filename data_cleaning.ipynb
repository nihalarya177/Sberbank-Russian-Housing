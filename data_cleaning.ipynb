{
 "cells": [
  {
   "cell_type": "code",
   "execution_count": 1,
   "metadata": {
    "_cell_guid": "b1076dfc-b9ad-4769-8c92-a6c4dae69d19",
    "_uuid": "8f2839f25d086af736a60e9eeb907d3b93b6e0e5",
    "execution": {
     "iopub.execute_input": "2022-11-13T15:41:18.972488Z",
     "iopub.status.busy": "2022-11-13T15:41:18.971948Z",
     "iopub.status.idle": "2022-11-13T15:41:18.986167Z",
     "shell.execute_reply": "2022-11-13T15:41:18.984729Z",
     "shell.execute_reply.started": "2022-11-13T15:41:18.972431Z"
    }
   },
   "outputs": [],
   "source": [
    "# This Python 3 environment comes with many helpful analytics libraries installed\n",
    "# It is defined by the kaggle/python Docker image: https://github.com/kaggle/docker-python\n",
    "# For example, here's several helpful packages to load\n",
    "\n",
    "import numpy as np # linear algebra\n",
    "import pandas as pd # data processing, CSV file I/O (e.g. pd.read_csv)\n",
    "\n",
    "# Input data files are av/ailable in the read-only \"../input/\" directory\n",
    "# For example, running this (by clicking run or pressing Shift+Enter) will list all files under the input directory\n",
    "\n",
    "import os\n",
    "for dirname, _, filenames in os.walk('/kaggle/input'):\n",
    "    for filename in filenames:\n",
    "        print(os.path.join(dirname, filename))\n",
    "\n",
    "# You can write up to 20GB to the current directory (/kaggle/working/) that gets preserved as output when you create a version using \"Save & Run All\" \n",
    "# You can also write temporary files to /kaggle/temp/, but they won't be saved outside of the current session"
   ]
  },
  {
   "cell_type": "code",
   "execution_count": 2,
   "metadata": {
    "execution": {
     "iopub.execute_input": "2022-11-13T15:41:19.344379Z",
     "iopub.status.busy": "2022-11-13T15:41:19.343487Z",
     "iopub.status.idle": "2022-11-13T15:41:31.076262Z",
     "shell.execute_reply": "2022-11-13T15:41:31.074681Z",
     "shell.execute_reply.started": "2022-11-13T15:41:19.344319Z"
    }
   },
   "outputs": [
    {
     "name": "stdout",
     "output_type": "stream",
     "text": [
      "Collecting fastai\n",
      "  Downloading fastai-2.7.10-py3-none-any.whl (240 kB)\n",
      "\u001b[2K     \u001b[90m━━━━━━━━━━━━━━━━━━━━━━━━━━━━━━━━━━━━━━━\u001b[0m \u001b[32m240.9/240.9 kB\u001b[0m \u001b[31m7.3 MB/s\u001b[0m eta \u001b[36m0:00:00\u001b[0m\n",
      "\u001b[?25hRequirement already satisfied: pyyaml in /Users/shivangikrishna/opt/anaconda3/lib/python3.9/site-packages (from fastai) (6.0)\n",
      "Requirement already satisfied: packaging in /Users/shivangikrishna/opt/anaconda3/lib/python3.9/site-packages (from fastai) (21.3)\n",
      "Collecting torch<1.14,>=1.7\n",
      "  Downloading torch-1.13.0-cp39-none-macosx_10_9_x86_64.whl (137.9 MB)\n",
      "\u001b[2K     \u001b[90m━━━━━━━━━━━━━━━━━━━━━━━━━━━━━━━━━━━━━━━\u001b[0m \u001b[32m137.9/137.9 MB\u001b[0m \u001b[31m4.4 MB/s\u001b[0m eta \u001b[36m0:00:00\u001b[0m00:01\u001b[0m00:01\u001b[0m\n",
      "\u001b[?25hRequirement already satisfied: scikit-learn in /Users/shivangikrishna/opt/anaconda3/lib/python3.9/site-packages (from fastai) (1.0.2)\n",
      "Collecting fastprogress>=0.2.4\n",
      "  Downloading fastprogress-1.0.3-py3-none-any.whl (12 kB)\n",
      "Requirement already satisfied: pillow>6.0.0 in /Users/shivangikrishna/opt/anaconda3/lib/python3.9/site-packages (from fastai) (9.2.0)\n",
      "Collecting spacy<4\n",
      "  Downloading spacy-3.4.3-cp39-cp39-macosx_10_9_x86_64.whl (6.7 MB)\n",
      "\u001b[2K     \u001b[90m━━━━━━━━━━━━━━━━━━━━━━━━━━━━━━━━━━━━━━━━\u001b[0m \u001b[32m6.7/6.7 MB\u001b[0m \u001b[31m4.8 MB/s\u001b[0m eta \u001b[36m0:00:00\u001b[0m00:01\u001b[0m00:01\u001b[0m\n",
      "\u001b[?25hCollecting torchvision>=0.8.2\n",
      "  Downloading torchvision-0.14.0-cp39-cp39-macosx_10_9_x86_64.whl (1.4 MB)\n",
      "\u001b[2K     \u001b[90m━━━━━━━━━━━━━━━━━━━━━━━━━━━━━━━━━━━━━━━━\u001b[0m \u001b[32m1.4/1.4 MB\u001b[0m \u001b[31m3.3 MB/s\u001b[0m eta \u001b[36m0:00:00\u001b[0m00:01\u001b[0m00:01\u001b[0mm\n",
      "\u001b[?25hRequirement already satisfied: scipy in /Users/shivangikrishna/opt/anaconda3/lib/python3.9/site-packages (from fastai) (1.9.1)\n",
      "Requirement already satisfied: pandas in /Users/shivangikrishna/opt/anaconda3/lib/python3.9/site-packages (from fastai) (1.4.4)\n",
      "Collecting fastcore<1.6,>=1.4.5\n",
      "  Downloading fastcore-1.5.27-py3-none-any.whl (67 kB)\n",
      "\u001b[2K     \u001b[90m━━━━━━━━━━━━━━━━━━━━━━━━━━━━━━━━━━━━━━━\u001b[0m \u001b[32m67.1/67.1 kB\u001b[0m \u001b[31m552.0 kB/s\u001b[0m eta \u001b[36m0:00:00\u001b[0ma \u001b[36m0:00:01\u001b[0m\n",
      "\u001b[?25hRequirement already satisfied: requests in /Users/shivangikrishna/opt/anaconda3/lib/python3.9/site-packages (from fastai) (2.28.1)\n",
      "Collecting fastdownload<2,>=0.0.5\n",
      "  Downloading fastdownload-0.0.7-py3-none-any.whl (12 kB)\n",
      "Requirement already satisfied: pip in /Users/shivangikrishna/opt/anaconda3/lib/python3.9/site-packages (from fastai) (22.2.2)\n",
      "Requirement already satisfied: matplotlib in /Users/shivangikrishna/opt/anaconda3/lib/python3.9/site-packages (from fastai) (3.5.2)\n",
      "Collecting pathy>=0.3.5\n",
      "  Downloading pathy-0.6.2-py3-none-any.whl (42 kB)\n",
      "\u001b[2K     \u001b[90m━━━━━━━━━━━━━━━━━━━━━━━━━━━━━━━━━━━━━━━━\u001b[0m \u001b[32m42.8/42.8 kB\u001b[0m \u001b[31m1.0 MB/s\u001b[0m eta \u001b[36m0:00:00\u001b[0m\n",
      "\u001b[?25hCollecting typer<0.8.0,>=0.3.0\n",
      "  Downloading typer-0.7.0-py3-none-any.whl (38 kB)\n",
      "Collecting catalogue<2.1.0,>=2.0.6\n",
      "  Downloading catalogue-2.0.8-py3-none-any.whl (17 kB)\n",
      "Collecting thinc<8.2.0,>=8.1.0\n",
      "  Downloading thinc-8.1.5-cp39-cp39-macosx_10_9_x86_64.whl (768 kB)\n",
      "\u001b[2K     \u001b[90m━━━━━━━━━━━━━━━━━━━━━━━━━━━━━━━━━━━━━━━\u001b[0m \u001b[32m768.7/768.7 kB\u001b[0m \u001b[31m6.3 MB/s\u001b[0m eta \u001b[36m0:00:00\u001b[0m00:01\u001b[0m00:01\u001b[0m\n",
      "\u001b[?25hCollecting langcodes<4.0.0,>=3.2.0\n",
      "  Downloading langcodes-3.3.0-py3-none-any.whl (181 kB)\n",
      "\u001b[2K     \u001b[90m━━━━━━━━━━━━━━━━━━━━━━━━━━━━━━━━━━━━━━━\u001b[0m \u001b[32m181.6/181.6 kB\u001b[0m \u001b[31m5.2 MB/s\u001b[0m eta \u001b[36m0:00:00\u001b[0m\n",
      "\u001b[?25hCollecting srsly<3.0.0,>=2.4.3\n",
      "  Downloading srsly-2.4.5-cp39-cp39-macosx_10_9_x86_64.whl (491 kB)\n",
      "\u001b[2K     \u001b[90m━━━━━━━━━━━━━━━━━━━━━━━━━━━━━━━━━━━━━━━\u001b[0m \u001b[32m491.3/491.3 kB\u001b[0m \u001b[31m2.0 MB/s\u001b[0m eta \u001b[36m0:00:00\u001b[0ma \u001b[36m0:00:01\u001b[0m\n",
      "\u001b[?25hCollecting spacy-legacy<3.1.0,>=3.0.10\n",
      "  Downloading spacy_legacy-3.0.10-py2.py3-none-any.whl (21 kB)\n",
      "Collecting pydantic!=1.8,!=1.8.1,<1.11.0,>=1.7.4\n",
      "  Downloading pydantic-1.10.2-cp39-cp39-macosx_10_9_x86_64.whl (3.2 MB)\n",
      "\u001b[2K     \u001b[90m━━━━━━━━━━━━━━━━━━━━━━━━━━━━━━━━━━━━━━━━\u001b[0m \u001b[32m3.2/3.2 MB\u001b[0m \u001b[31m4.6 MB/s\u001b[0m eta \u001b[36m0:00:00\u001b[0m00:01\u001b[0m00:01\u001b[0m\n",
      "\u001b[?25hCollecting wasabi<1.1.0,>=0.9.1\n",
      "  Downloading wasabi-0.10.1-py3-none-any.whl (26 kB)\n",
      "Collecting preshed<3.1.0,>=3.0.2\n",
      "  Downloading preshed-3.0.8-cp39-cp39-macosx_10_9_x86_64.whl (107 kB)\n",
      "\u001b[2K     \u001b[90m━━━━━━━━━━━━━━━━━━━━━━━━━━━━━━━━━━━━━━━\u001b[0m \u001b[32m107.9/107.9 kB\u001b[0m \u001b[31m3.2 MB/s\u001b[0m eta \u001b[36m0:00:00\u001b[0m\n",
      "\u001b[?25hRequirement already satisfied: jinja2 in /Users/shivangikrishna/opt/anaconda3/lib/python3.9/site-packages (from spacy<4->fastai) (2.11.3)\n",
      "Requirement already satisfied: numpy>=1.15.0 in /Users/shivangikrishna/opt/anaconda3/lib/python3.9/site-packages (from spacy<4->fastai) (1.21.5)\n",
      "Collecting murmurhash<1.1.0,>=0.28.0\n",
      "  Downloading murmurhash-1.0.9-cp39-cp39-macosx_10_9_x86_64.whl (18 kB)\n",
      "Collecting cymem<2.1.0,>=2.0.2\n",
      "  Downloading cymem-2.0.7-cp39-cp39-macosx_10_9_x86_64.whl (32 kB)\n",
      "Collecting spacy-loggers<2.0.0,>=1.0.0\n",
      "  Downloading spacy_loggers-1.0.3-py3-none-any.whl (9.3 kB)\n",
      "Requirement already satisfied: tqdm<5.0.0,>=4.38.0 in /Users/shivangikrishna/opt/anaconda3/lib/python3.9/site-packages (from spacy<4->fastai) (4.64.1)\n",
      "Requirement already satisfied: setuptools in /Users/shivangikrishna/opt/anaconda3/lib/python3.9/site-packages (from spacy<4->fastai) (63.4.1)\n",
      "Requirement already satisfied: pyparsing!=3.0.5,>=2.0.2 in /Users/shivangikrishna/opt/anaconda3/lib/python3.9/site-packages (from packaging->fastai) (3.0.9)\n",
      "Requirement already satisfied: idna<4,>=2.5 in /Users/shivangikrishna/opt/anaconda3/lib/python3.9/site-packages (from requests->fastai) (3.3)\n",
      "Requirement already satisfied: certifi>=2017.4.17 in /Users/shivangikrishna/opt/anaconda3/lib/python3.9/site-packages (from requests->fastai) (2022.9.24)\n",
      "Requirement already satisfied: urllib3<1.27,>=1.21.1 in /Users/shivangikrishna/opt/anaconda3/lib/python3.9/site-packages (from requests->fastai) (1.26.11)\n",
      "Requirement already satisfied: charset-normalizer<3,>=2 in /Users/shivangikrishna/opt/anaconda3/lib/python3.9/site-packages (from requests->fastai) (2.0.4)\n",
      "Requirement already satisfied: typing-extensions in /Users/shivangikrishna/opt/anaconda3/lib/python3.9/site-packages (from torch<1.14,>=1.7->fastai) (4.3.0)\n",
      "Requirement already satisfied: kiwisolver>=1.0.1 in /Users/shivangikrishna/opt/anaconda3/lib/python3.9/site-packages (from matplotlib->fastai) (1.4.2)\n",
      "Requirement already satisfied: python-dateutil>=2.7 in /Users/shivangikrishna/opt/anaconda3/lib/python3.9/site-packages (from matplotlib->fastai) (2.8.2)\n",
      "Requirement already satisfied: cycler>=0.10 in /Users/shivangikrishna/opt/anaconda3/lib/python3.9/site-packages (from matplotlib->fastai) (0.11.0)\n",
      "Requirement already satisfied: fonttools>=4.22.0 in /Users/shivangikrishna/opt/anaconda3/lib/python3.9/site-packages (from matplotlib->fastai) (4.25.0)\n",
      "Requirement already satisfied: pytz>=2020.1 in /Users/shivangikrishna/opt/anaconda3/lib/python3.9/site-packages (from pandas->fastai) (2022.1)\n",
      "Requirement already satisfied: joblib>=0.11 in /Users/shivangikrishna/opt/anaconda3/lib/python3.9/site-packages (from scikit-learn->fastai) (1.1.0)\n",
      "Requirement already satisfied: threadpoolctl>=2.0.0 in /Users/shivangikrishna/opt/anaconda3/lib/python3.9/site-packages (from scikit-learn->fastai) (2.2.0)\n",
      "Requirement already satisfied: smart-open<6.0.0,>=5.2.1 in /Users/shivangikrishna/opt/anaconda3/lib/python3.9/site-packages (from pathy>=0.3.5->spacy<4->fastai) (5.2.1)\n",
      "Requirement already satisfied: six>=1.5 in /Users/shivangikrishna/opt/anaconda3/lib/python3.9/site-packages (from python-dateutil>=2.7->matplotlib->fastai) (1.16.0)\n",
      "Collecting blis<0.8.0,>=0.7.8\n",
      "  Downloading blis-0.7.9-cp39-cp39-macosx_10_9_x86_64.whl (6.1 MB)\n",
      "\u001b[2K     \u001b[90m━━━━━━━━━━━━━━━━━━━━━━━━━━━━━━━━━━━━━━━━\u001b[0m \u001b[32m6.1/6.1 MB\u001b[0m \u001b[31m5.7 MB/s\u001b[0m eta \u001b[36m0:00:00\u001b[0m00:01\u001b[0m00:01\u001b[0mm\n",
      "\u001b[?25hCollecting confection<1.0.0,>=0.0.1\n",
      "  Downloading confection-0.0.3-py3-none-any.whl (32 kB)\n",
      "Requirement already satisfied: click<9.0.0,>=7.1.1 in /Users/shivangikrishna/opt/anaconda3/lib/python3.9/site-packages (from typer<0.8.0,>=0.3.0->spacy<4->fastai) (8.0.4)\n",
      "Requirement already satisfied: MarkupSafe>=0.23 in /Users/shivangikrishna/opt/anaconda3/lib/python3.9/site-packages (from jinja2->spacy<4->fastai) (2.0.1)\n",
      "Installing collected packages: wasabi, cymem, typer, torch, spacy-loggers, spacy-legacy, pydantic, murmurhash, langcodes, fastprogress, catalogue, blis, torchvision, srsly, preshed, pathy, fastcore, fastdownload, confection, thinc, spacy, fastai\n"
     ]
    },
    {
     "name": "stdout",
     "output_type": "stream",
     "text": [
      "Successfully installed blis-0.7.9 catalogue-2.0.8 confection-0.0.3 cymem-2.0.7 fastai-2.7.10 fastcore-1.5.27 fastdownload-0.0.7 fastprogress-1.0.3 langcodes-3.3.0 murmurhash-1.0.9 pathy-0.6.2 preshed-3.0.8 pydantic-1.10.2 spacy-3.4.3 spacy-legacy-3.0.10 spacy-loggers-1.0.3 srsly-2.4.5 thinc-8.1.5 torch-1.13.0 torchvision-0.14.0 typer-0.7.0 wasabi-0.10.1\n",
      "Note: you may need to restart the kernel to use updated packages.\n"
     ]
    }
   ],
   "source": [
    "pip install fastai"
   ]
  },
  {
   "cell_type": "code",
   "execution_count": 5,
   "metadata": {
    "execution": {
     "iopub.execute_input": "2022-11-13T15:41:31.080238Z",
     "iopub.status.busy": "2022-11-13T15:41:31.079717Z",
     "iopub.status.idle": "2022-11-13T15:41:31.098187Z",
     "shell.execute_reply": "2022-11-13T15:41:31.096724Z",
     "shell.execute_reply.started": "2022-11-13T15:41:31.080187Z"
    }
   },
   "outputs": [],
   "source": [
    "from fastai.imports import *\n",
    "import gc\n",
    "from PIL import Image\n",
    "from numpy import asarray\n",
    "import numpy as np\n",
    "import pandas as pd\n",
    "import matplotlib.pyplot as plt\n",
    "from sklearn.model_selection import train_test_split\n",
    "from tqdm import tqdm\n",
    "import pandas as pd\n",
    "import numpy as np\n",
    "%matplotlib inline\n",
    "from sklearn.model_selection import train_test_split"
   ]
  },
  {
   "cell_type": "code",
   "execution_count": 6,
   "metadata": {
    "execution": {
     "iopub.execute_input": "2022-11-13T15:41:31.102734Z",
     "iopub.status.busy": "2022-11-13T15:41:31.102241Z",
     "iopub.status.idle": "2022-11-13T15:42:44.884582Z",
     "shell.execute_reply": "2022-11-13T15:42:44.883044Z",
     "shell.execute_reply.started": "2022-11-13T15:41:31.102698Z"
    }
   },
   "outputs": [],
   "source": [
    "#!unzip '../input/sberbank-russian-housing-market/train.csv.zip'"
   ]
  },
  {
   "cell_type": "code",
   "execution_count": 7,
   "metadata": {
    "execution": {
     "iopub.execute_input": "2022-11-13T15:42:44.889068Z",
     "iopub.status.busy": "2022-11-13T15:42:44.887958Z",
     "iopub.status.idle": "2022-11-13T15:42:45.229984Z",
     "shell.execute_reply": "2022-11-13T15:42:45.227018Z",
     "shell.execute_reply.started": "2022-11-13T15:42:44.889018Z"
    }
   },
   "outputs": [],
   "source": [
    "#!unzip '../input/sberbank-russian-housing-market/test.csv.zip'"
   ]
  },
  {
   "cell_type": "code",
   "execution_count": 8,
   "metadata": {
    "execution": {
     "iopub.status.busy": "2022-11-13T15:42:45.232678Z",
     "iopub.status.idle": "2022-11-13T15:42:45.233726Z",
     "shell.execute_reply": "2022-11-13T15:42:45.233429Z",
     "shell.execute_reply.started": "2022-11-13T15:42:45.233398Z"
    }
   },
   "outputs": [],
   "source": [
    "#!unzip '../input/sberbank-russian-housing-market/macro.csv.zip'"
   ]
  },
  {
   "cell_type": "code",
   "execution_count": 9,
   "metadata": {
    "execution": {
     "iopub.execute_input": "2022-11-13T22:34:07.979608Z",
     "iopub.status.busy": "2022-11-13T22:34:07.979160Z",
     "iopub.status.idle": "2022-11-13T22:34:09.132822Z",
     "shell.execute_reply": "2022-11-13T22:34:09.131549Z",
     "shell.execute_reply.started": "2022-11-13T22:34:07.979575Z"
    }
   },
   "outputs": [],
   "source": [
    "train = pd.read_csv('train.csv', parse_dates=['timestamp'])\n",
    "test = pd.read_csv('test.csv', parse_dates=['timestamp'])\n",
    "macro = pd.read_csv('macro.csv', parse_dates=['timestamp'])"
   ]
  },
  {
   "cell_type": "code",
   "execution_count": 10,
   "metadata": {
    "execution": {
     "iopub.execute_input": "2022-11-13T22:34:09.135317Z",
     "iopub.status.busy": "2022-11-13T22:34:09.134941Z",
     "iopub.status.idle": "2022-11-13T22:34:09.162830Z",
     "shell.execute_reply": "2022-11-13T22:34:09.161569Z",
     "shell.execute_reply.started": "2022-11-13T22:34:09.135253Z"
    }
   },
   "outputs": [
    {
     "data": {
      "text/html": [
       "<div>\n",
       "<style scoped>\n",
       "    .dataframe tbody tr th:only-of-type {\n",
       "        vertical-align: middle;\n",
       "    }\n",
       "\n",
       "    .dataframe tbody tr th {\n",
       "        vertical-align: top;\n",
       "    }\n",
       "\n",
       "    .dataframe thead th {\n",
       "        text-align: right;\n",
       "    }\n",
       "</style>\n",
       "<table border=\"1\" class=\"dataframe\">\n",
       "  <thead>\n",
       "    <tr style=\"text-align: right;\">\n",
       "      <th></th>\n",
       "      <th>id</th>\n",
       "      <th>timestamp</th>\n",
       "      <th>full_sq</th>\n",
       "      <th>life_sq</th>\n",
       "      <th>floor</th>\n",
       "      <th>max_floor</th>\n",
       "      <th>material</th>\n",
       "      <th>build_year</th>\n",
       "      <th>num_room</th>\n",
       "      <th>kitch_sq</th>\n",
       "      <th>...</th>\n",
       "      <th>cafe_count_5000_price_2500</th>\n",
       "      <th>cafe_count_5000_price_4000</th>\n",
       "      <th>cafe_count_5000_price_high</th>\n",
       "      <th>big_church_count_5000</th>\n",
       "      <th>church_count_5000</th>\n",
       "      <th>mosque_count_5000</th>\n",
       "      <th>leisure_count_5000</th>\n",
       "      <th>sport_count_5000</th>\n",
       "      <th>market_count_5000</th>\n",
       "      <th>price_doc</th>\n",
       "    </tr>\n",
       "  </thead>\n",
       "  <tbody>\n",
       "    <tr>\n",
       "      <th>0</th>\n",
       "      <td>1</td>\n",
       "      <td>2011-08-20</td>\n",
       "      <td>43</td>\n",
       "      <td>27.0</td>\n",
       "      <td>4.0</td>\n",
       "      <td>NaN</td>\n",
       "      <td>NaN</td>\n",
       "      <td>NaN</td>\n",
       "      <td>NaN</td>\n",
       "      <td>NaN</td>\n",
       "      <td>...</td>\n",
       "      <td>9</td>\n",
       "      <td>4</td>\n",
       "      <td>0</td>\n",
       "      <td>13</td>\n",
       "      <td>22</td>\n",
       "      <td>1</td>\n",
       "      <td>0</td>\n",
       "      <td>52</td>\n",
       "      <td>4</td>\n",
       "      <td>5850000</td>\n",
       "    </tr>\n",
       "    <tr>\n",
       "      <th>1</th>\n",
       "      <td>2</td>\n",
       "      <td>2011-08-23</td>\n",
       "      <td>34</td>\n",
       "      <td>19.0</td>\n",
       "      <td>3.0</td>\n",
       "      <td>NaN</td>\n",
       "      <td>NaN</td>\n",
       "      <td>NaN</td>\n",
       "      <td>NaN</td>\n",
       "      <td>NaN</td>\n",
       "      <td>...</td>\n",
       "      <td>15</td>\n",
       "      <td>3</td>\n",
       "      <td>0</td>\n",
       "      <td>15</td>\n",
       "      <td>29</td>\n",
       "      <td>1</td>\n",
       "      <td>10</td>\n",
       "      <td>66</td>\n",
       "      <td>14</td>\n",
       "      <td>6000000</td>\n",
       "    </tr>\n",
       "    <tr>\n",
       "      <th>2</th>\n",
       "      <td>3</td>\n",
       "      <td>2011-08-27</td>\n",
       "      <td>43</td>\n",
       "      <td>29.0</td>\n",
       "      <td>2.0</td>\n",
       "      <td>NaN</td>\n",
       "      <td>NaN</td>\n",
       "      <td>NaN</td>\n",
       "      <td>NaN</td>\n",
       "      <td>NaN</td>\n",
       "      <td>...</td>\n",
       "      <td>10</td>\n",
       "      <td>3</td>\n",
       "      <td>0</td>\n",
       "      <td>11</td>\n",
       "      <td>27</td>\n",
       "      <td>0</td>\n",
       "      <td>4</td>\n",
       "      <td>67</td>\n",
       "      <td>10</td>\n",
       "      <td>5700000</td>\n",
       "    </tr>\n",
       "    <tr>\n",
       "      <th>3</th>\n",
       "      <td>4</td>\n",
       "      <td>2011-09-01</td>\n",
       "      <td>89</td>\n",
       "      <td>50.0</td>\n",
       "      <td>9.0</td>\n",
       "      <td>NaN</td>\n",
       "      <td>NaN</td>\n",
       "      <td>NaN</td>\n",
       "      <td>NaN</td>\n",
       "      <td>NaN</td>\n",
       "      <td>...</td>\n",
       "      <td>11</td>\n",
       "      <td>2</td>\n",
       "      <td>1</td>\n",
       "      <td>4</td>\n",
       "      <td>4</td>\n",
       "      <td>0</td>\n",
       "      <td>0</td>\n",
       "      <td>26</td>\n",
       "      <td>3</td>\n",
       "      <td>13100000</td>\n",
       "    </tr>\n",
       "    <tr>\n",
       "      <th>4</th>\n",
       "      <td>5</td>\n",
       "      <td>2011-09-05</td>\n",
       "      <td>77</td>\n",
       "      <td>77.0</td>\n",
       "      <td>4.0</td>\n",
       "      <td>NaN</td>\n",
       "      <td>NaN</td>\n",
       "      <td>NaN</td>\n",
       "      <td>NaN</td>\n",
       "      <td>NaN</td>\n",
       "      <td>...</td>\n",
       "      <td>319</td>\n",
       "      <td>108</td>\n",
       "      <td>17</td>\n",
       "      <td>135</td>\n",
       "      <td>236</td>\n",
       "      <td>2</td>\n",
       "      <td>91</td>\n",
       "      <td>195</td>\n",
       "      <td>14</td>\n",
       "      <td>16331452</td>\n",
       "    </tr>\n",
       "    <tr>\n",
       "      <th>5</th>\n",
       "      <td>6</td>\n",
       "      <td>2011-09-06</td>\n",
       "      <td>67</td>\n",
       "      <td>46.0</td>\n",
       "      <td>14.0</td>\n",
       "      <td>NaN</td>\n",
       "      <td>NaN</td>\n",
       "      <td>NaN</td>\n",
       "      <td>NaN</td>\n",
       "      <td>NaN</td>\n",
       "      <td>...</td>\n",
       "      <td>62</td>\n",
       "      <td>14</td>\n",
       "      <td>1</td>\n",
       "      <td>53</td>\n",
       "      <td>78</td>\n",
       "      <td>1</td>\n",
       "      <td>20</td>\n",
       "      <td>113</td>\n",
       "      <td>17</td>\n",
       "      <td>9100000</td>\n",
       "    </tr>\n",
       "    <tr>\n",
       "      <th>6</th>\n",
       "      <td>7</td>\n",
       "      <td>2011-09-08</td>\n",
       "      <td>25</td>\n",
       "      <td>14.0</td>\n",
       "      <td>10.0</td>\n",
       "      <td>NaN</td>\n",
       "      <td>NaN</td>\n",
       "      <td>NaN</td>\n",
       "      <td>NaN</td>\n",
       "      <td>NaN</td>\n",
       "      <td>...</td>\n",
       "      <td>81</td>\n",
       "      <td>16</td>\n",
       "      <td>3</td>\n",
       "      <td>38</td>\n",
       "      <td>80</td>\n",
       "      <td>1</td>\n",
       "      <td>27</td>\n",
       "      <td>127</td>\n",
       "      <td>8</td>\n",
       "      <td>5500000</td>\n",
       "    </tr>\n",
       "    <tr>\n",
       "      <th>7</th>\n",
       "      <td>8</td>\n",
       "      <td>2011-09-09</td>\n",
       "      <td>44</td>\n",
       "      <td>44.0</td>\n",
       "      <td>5.0</td>\n",
       "      <td>NaN</td>\n",
       "      <td>NaN</td>\n",
       "      <td>NaN</td>\n",
       "      <td>NaN</td>\n",
       "      <td>NaN</td>\n",
       "      <td>...</td>\n",
       "      <td>9</td>\n",
       "      <td>4</td>\n",
       "      <td>0</td>\n",
       "      <td>11</td>\n",
       "      <td>18</td>\n",
       "      <td>1</td>\n",
       "      <td>0</td>\n",
       "      <td>47</td>\n",
       "      <td>4</td>\n",
       "      <td>2000000</td>\n",
       "    </tr>\n",
       "    <tr>\n",
       "      <th>8</th>\n",
       "      <td>9</td>\n",
       "      <td>2011-09-10</td>\n",
       "      <td>42</td>\n",
       "      <td>27.0</td>\n",
       "      <td>5.0</td>\n",
       "      <td>NaN</td>\n",
       "      <td>NaN</td>\n",
       "      <td>NaN</td>\n",
       "      <td>NaN</td>\n",
       "      <td>NaN</td>\n",
       "      <td>...</td>\n",
       "      <td>19</td>\n",
       "      <td>8</td>\n",
       "      <td>1</td>\n",
       "      <td>18</td>\n",
       "      <td>34</td>\n",
       "      <td>1</td>\n",
       "      <td>3</td>\n",
       "      <td>85</td>\n",
       "      <td>11</td>\n",
       "      <td>5300000</td>\n",
       "    </tr>\n",
       "    <tr>\n",
       "      <th>9</th>\n",
       "      <td>10</td>\n",
       "      <td>2011-09-13</td>\n",
       "      <td>36</td>\n",
       "      <td>21.0</td>\n",
       "      <td>9.0</td>\n",
       "      <td>NaN</td>\n",
       "      <td>NaN</td>\n",
       "      <td>NaN</td>\n",
       "      <td>NaN</td>\n",
       "      <td>NaN</td>\n",
       "      <td>...</td>\n",
       "      <td>19</td>\n",
       "      <td>13</td>\n",
       "      <td>0</td>\n",
       "      <td>10</td>\n",
       "      <td>20</td>\n",
       "      <td>1</td>\n",
       "      <td>3</td>\n",
       "      <td>67</td>\n",
       "      <td>1</td>\n",
       "      <td>2000000</td>\n",
       "    </tr>\n",
       "  </tbody>\n",
       "</table>\n",
       "<p>10 rows × 292 columns</p>\n",
       "</div>"
      ],
      "text/plain": [
       "   id  timestamp  full_sq  life_sq  floor  max_floor  material  build_year  \\\n",
       "0   1 2011-08-20       43     27.0    4.0        NaN       NaN         NaN   \n",
       "1   2 2011-08-23       34     19.0    3.0        NaN       NaN         NaN   \n",
       "2   3 2011-08-27       43     29.0    2.0        NaN       NaN         NaN   \n",
       "3   4 2011-09-01       89     50.0    9.0        NaN       NaN         NaN   \n",
       "4   5 2011-09-05       77     77.0    4.0        NaN       NaN         NaN   \n",
       "5   6 2011-09-06       67     46.0   14.0        NaN       NaN         NaN   \n",
       "6   7 2011-09-08       25     14.0   10.0        NaN       NaN         NaN   \n",
       "7   8 2011-09-09       44     44.0    5.0        NaN       NaN         NaN   \n",
       "8   9 2011-09-10       42     27.0    5.0        NaN       NaN         NaN   \n",
       "9  10 2011-09-13       36     21.0    9.0        NaN       NaN         NaN   \n",
       "\n",
       "   num_room  kitch_sq  ...  cafe_count_5000_price_2500  \\\n",
       "0       NaN       NaN  ...                           9   \n",
       "1       NaN       NaN  ...                          15   \n",
       "2       NaN       NaN  ...                          10   \n",
       "3       NaN       NaN  ...                          11   \n",
       "4       NaN       NaN  ...                         319   \n",
       "5       NaN       NaN  ...                          62   \n",
       "6       NaN       NaN  ...                          81   \n",
       "7       NaN       NaN  ...                           9   \n",
       "8       NaN       NaN  ...                          19   \n",
       "9       NaN       NaN  ...                          19   \n",
       "\n",
       "  cafe_count_5000_price_4000 cafe_count_5000_price_high  \\\n",
       "0                          4                          0   \n",
       "1                          3                          0   \n",
       "2                          3                          0   \n",
       "3                          2                          1   \n",
       "4                        108                         17   \n",
       "5                         14                          1   \n",
       "6                         16                          3   \n",
       "7                          4                          0   \n",
       "8                          8                          1   \n",
       "9                         13                          0   \n",
       "\n",
       "   big_church_count_5000  church_count_5000  mosque_count_5000  \\\n",
       "0                     13                 22                  1   \n",
       "1                     15                 29                  1   \n",
       "2                     11                 27                  0   \n",
       "3                      4                  4                  0   \n",
       "4                    135                236                  2   \n",
       "5                     53                 78                  1   \n",
       "6                     38                 80                  1   \n",
       "7                     11                 18                  1   \n",
       "8                     18                 34                  1   \n",
       "9                     10                 20                  1   \n",
       "\n",
       "   leisure_count_5000  sport_count_5000  market_count_5000  price_doc  \n",
       "0                   0                52                  4    5850000  \n",
       "1                  10                66                 14    6000000  \n",
       "2                   4                67                 10    5700000  \n",
       "3                   0                26                  3   13100000  \n",
       "4                  91               195                 14   16331452  \n",
       "5                  20               113                 17    9100000  \n",
       "6                  27               127                  8    5500000  \n",
       "7                   0                47                  4    2000000  \n",
       "8                   3                85                 11    5300000  \n",
       "9                   3                67                  1    2000000  \n",
       "\n",
       "[10 rows x 292 columns]"
      ]
     },
     "execution_count": 10,
     "metadata": {},
     "output_type": "execute_result"
    }
   ],
   "source": [
    "train.head(10)"
   ]
  },
  {
   "cell_type": "code",
   "execution_count": 11,
   "metadata": {
    "execution": {
     "iopub.execute_input": "2022-11-13T22:34:09.164605Z",
     "iopub.status.busy": "2022-11-13T22:34:09.164224Z",
     "iopub.status.idle": "2022-11-13T22:34:09.173069Z",
     "shell.execute_reply": "2022-11-13T22:34:09.171876Z",
     "shell.execute_reply.started": "2022-11-13T22:34:09.164572Z"
    }
   },
   "outputs": [
    {
     "data": {
      "text/plain": [
       "0"
      ]
     },
     "execution_count": 11,
     "metadata": {},
     "output_type": "execute_result"
    }
   ],
   "source": [
    "train['young_all'].isna().sum()"
   ]
  },
  {
   "cell_type": "code",
   "execution_count": 12,
   "metadata": {
    "execution": {
     "iopub.execute_input": "2022-11-13T22:34:09.175718Z",
     "iopub.status.busy": "2022-11-13T22:34:09.175236Z",
     "iopub.status.idle": "2022-11-13T22:34:09.184767Z",
     "shell.execute_reply": "2022-11-13T22:34:09.183558Z",
     "shell.execute_reply.started": "2022-11-13T22:34:09.175685Z"
    }
   },
   "outputs": [
    {
     "name": "stdout",
     "output_type": "stream",
     "text": [
      "30471\n",
      "7662\n",
      "2484\n"
     ]
    }
   ],
   "source": [
    "print(len(train))\n",
    "print(len(test))\n",
    "print(len(macro))"
   ]
  },
  {
   "cell_type": "markdown",
   "metadata": {},
   "source": [
    "## Fixing the data"
   ]
  },
  {
   "cell_type": "markdown",
   "metadata": {},
   "source": [
    "### State"
   ]
  },
  {
   "cell_type": "code",
   "execution_count": 14,
   "metadata": {
    "execution": {
     "iopub.execute_input": "2022-11-13T22:34:21.053210Z",
     "iopub.status.busy": "2022-11-13T22:34:21.052432Z",
     "iopub.status.idle": "2022-11-13T22:34:21.140552Z",
     "shell.execute_reply": "2022-11-13T22:34:21.139118Z",
     "shell.execute_reply.started": "2022-11-13T22:34:21.053167Z"
    }
   },
   "outputs": [],
   "source": [
    "train[\"state\"][train[\"state\"] == 33] = np.NaN\n",
    "train['state'] = train.groupby(['sub_area'], sort=False)['state'].apply(lambda x: x.fillna(np.floor(x.median())))\n",
    "train.loc[(train['state'].isnull()) & (train['sub_area']=='Poselenie Klenovskoe'),'state'] = 2"
   ]
  },
  {
   "cell_type": "markdown",
   "metadata": {},
   "source": [
    "### max_floor"
   ]
  },
  {
   "cell_type": "code",
   "execution_count": 20,
   "metadata": {
    "execution": {
     "iopub.execute_input": "2022-11-13T22:34:34.451787Z",
     "iopub.status.busy": "2022-11-13T22:34:34.451379Z",
     "iopub.status.idle": "2022-11-13T22:34:34.468065Z",
     "shell.execute_reply": "2022-11-13T22:34:34.466667Z",
     "shell.execute_reply.started": "2022-11-13T22:34:34.451755Z"
    }
   },
   "outputs": [],
   "source": [
    "train['max_floor'] = train['max_floor'].apply(lambda x: 90 if x>90 else x)\n",
    "train['max_floor'] = train.groupby(['sub_area'], sort=False)['max_floor'].apply(lambda x: x.fillna(np.floor(x.median())))"
   ]
  },
  {
   "cell_type": "code",
   "execution_count": 23,
   "metadata": {
    "execution": {
     "iopub.execute_input": "2022-11-13T22:34:33.762750Z",
     "iopub.status.busy": "2022-11-13T22:34:33.762331Z",
     "iopub.status.idle": "2022-11-13T22:34:33.771471Z",
     "shell.execute_reply": "2022-11-13T22:34:33.770046Z",
     "shell.execute_reply.started": "2022-11-13T22:34:33.762719Z"
    }
   },
   "outputs": [
    {
     "data": {
      "text/plain": [
       "0"
      ]
     },
     "execution_count": 23,
     "metadata": {},
     "output_type": "execute_result"
    }
   ],
   "source": [
    "train.max_floor.isnull().sum()"
   ]
  },
  {
   "cell_type": "markdown",
   "metadata": {},
   "source": [
    "### floor"
   ]
  },
  {
   "cell_type": "code",
   "execution_count": 24,
   "metadata": {
    "execution": {
     "iopub.execute_input": "2022-11-13T22:34:38.125308Z",
     "iopub.status.busy": "2022-11-13T22:34:38.124590Z",
     "iopub.status.idle": "2022-11-13T22:34:41.281408Z",
     "shell.execute_reply": "2022-11-13T22:34:41.279846Z",
     "shell.execute_reply.started": "2022-11-13T22:34:38.125255Z"
    }
   },
   "outputs": [],
   "source": [
    "train['floor'] = train.apply(lambda x: x.max_floor if x.floor > x.max_floor else x.floor, axis=1)\n",
    "train['floor'] = train.apply(lambda x: 1 if x.floor==0.0 else x.floor, axis=1)\n",
    "train['floor'] = train.groupby(['sub_area'], sort=False)['floor'].apply(lambda x: x.fillna(np.floor(x.median())))"
   ]
  },
  {
   "cell_type": "code",
   "execution_count": 27,
   "metadata": {
    "execution": {
     "iopub.execute_input": "2022-11-13T22:34:37.703628Z",
     "iopub.status.busy": "2022-11-13T22:34:37.702500Z",
     "iopub.status.idle": "2022-11-13T22:34:37.716118Z",
     "shell.execute_reply": "2022-11-13T22:34:37.714759Z",
     "shell.execute_reply.started": "2022-11-13T22:34:37.703581Z"
    }
   },
   "outputs": [
    {
     "data": {
      "text/plain": [
       "0"
      ]
     },
     "execution_count": 27,
     "metadata": {},
     "output_type": "execute_result"
    }
   ],
   "source": [
    "train.floor.isnull().sum()"
   ]
  },
  {
   "cell_type": "markdown",
   "metadata": {},
   "source": [
    "### full_sq"
   ]
  },
  {
   "cell_type": "code",
   "execution_count": 28,
   "metadata": {
    "execution": {
     "iopub.execute_input": "2022-11-13T22:34:41.392761Z",
     "iopub.status.busy": "2022-11-13T22:34:41.392460Z",
     "iopub.status.idle": "2022-11-13T22:34:42.714749Z",
     "shell.execute_reply": "2022-11-13T22:34:42.713673Z",
     "shell.execute_reply.started": "2022-11-13T22:34:41.392733Z"
    }
   },
   "outputs": [],
   "source": [
    "train['full_sq'] = train.apply(lambda x: 15 if x.full_sq < 15 else x.full_sq, axis=1)"
   ]
  },
  {
   "cell_type": "code",
   "execution_count": 30,
   "metadata": {
    "execution": {
     "iopub.execute_input": "2022-11-13T22:34:41.379080Z",
     "iopub.status.busy": "2022-11-13T22:34:41.378713Z",
     "iopub.status.idle": "2022-11-13T22:34:41.391524Z",
     "shell.execute_reply": "2022-11-13T22:34:41.390370Z",
     "shell.execute_reply.started": "2022-11-13T22:34:41.379048Z"
    }
   },
   "outputs": [
    {
     "data": {
      "text/plain": [
       "0"
      ]
     },
     "execution_count": 30,
     "metadata": {},
     "output_type": "execute_result"
    }
   ],
   "source": [
    "train.full_sq.isnull().sum()"
   ]
  },
  {
   "cell_type": "markdown",
   "metadata": {},
   "source": [
    "### life_sq"
   ]
  },
  {
   "cell_type": "code",
   "execution_count": 31,
   "metadata": {
    "execution": {
     "iopub.execute_input": "2022-11-13T22:34:42.744562Z",
     "iopub.status.busy": "2022-11-13T22:34:42.744055Z",
     "iopub.status.idle": "2022-11-13T22:34:45.439928Z",
     "shell.execute_reply": "2022-11-13T22:34:45.438832Z",
     "shell.execute_reply.started": "2022-11-13T22:34:42.744514Z"
    }
   },
   "outputs": [],
   "source": [
    "train['life_sq'] = train.apply(lambda x: 10 if x.life_sq < 10 else x.life_sq, axis=1)\n",
    "train['life_sq'] = train.apply(lambda x: x.full_sq if x.life_sq > x.full_sq else x.life_sq, axis=1)\n",
    "train['life_sq'] = train.groupby(['sub_area'], sort=False)['life_sq'].apply(lambda x: x.fillna(np.floor(x.median())))"
   ]
  },
  {
   "cell_type": "code",
   "execution_count": 34,
   "metadata": {
    "execution": {
     "iopub.execute_input": "2022-11-13T22:34:42.729714Z",
     "iopub.status.busy": "2022-11-13T22:34:42.729026Z",
     "iopub.status.idle": "2022-11-13T22:34:42.742031Z",
     "shell.execute_reply": "2022-11-13T22:34:42.740023Z",
     "shell.execute_reply.started": "2022-11-13T22:34:42.729679Z"
    }
   },
   "outputs": [
    {
     "data": {
      "text/plain": [
       "0"
      ]
     },
     "execution_count": 34,
     "metadata": {},
     "output_type": "execute_result"
    }
   ],
   "source": [
    "train.life_sq.isnull().sum()"
   ]
  },
  {
   "cell_type": "markdown",
   "metadata": {},
   "source": [
    "### kitch_sq"
   ]
  },
  {
   "cell_type": "code",
   "execution_count": 36,
   "metadata": {
    "execution": {
     "iopub.execute_input": "2022-11-13T22:34:51.013309Z",
     "iopub.status.busy": "2022-11-13T22:34:51.012056Z",
     "iopub.status.idle": "2022-11-13T22:34:54.480480Z",
     "shell.execute_reply": "2022-11-13T22:34:54.479311Z",
     "shell.execute_reply.started": "2022-11-13T22:34:51.013233Z"
    }
   },
   "outputs": [],
   "source": [
    "train['kitch_sq'] = train.apply(lambda x: (x.life_sq - 20) if ((x.kitch_sq > x.life_sq) & (x.life_sq > 25)) else x.kitch_sq, axis=1)\n",
    "train['kitch_sq'] = train.apply(lambda x: 5 if ((x.kitch_sq > x.life_sq) & (x.life_sq <= 25)) else x.kitch_sq, axis=1)\n",
    "train['kitch_sq'] = train.groupby(['sub_area'], sort=False)['life_sq'].apply(lambda x: x.fillna(np.floor(x.mean())))"
   ]
  },
  {
   "cell_type": "code",
   "execution_count": 40,
   "metadata": {
    "execution": {
     "iopub.execute_input": "2022-11-13T22:34:54.493630Z",
     "iopub.status.busy": "2022-11-13T22:34:54.493261Z",
     "iopub.status.idle": "2022-11-13T22:34:54.507997Z",
     "shell.execute_reply": "2022-11-13T22:34:54.506630Z",
     "shell.execute_reply.started": "2022-11-13T22:34:54.493599Z"
    }
   },
   "outputs": [
    {
     "data": {
      "text/plain": [
       "0"
      ]
     },
     "execution_count": 40,
     "metadata": {},
     "output_type": "execute_result"
    }
   ],
   "source": [
    "train.kitch_sq.isnull().sum()"
   ]
  },
  {
   "cell_type": "markdown",
   "metadata": {},
   "source": [
    "### num_room"
   ]
  },
  {
   "cell_type": "code",
   "execution_count": 41,
   "metadata": {
    "execution": {
     "iopub.execute_input": "2022-11-13T22:34:55.999773Z",
     "iopub.status.busy": "2022-11-13T22:34:55.999308Z",
     "iopub.status.idle": "2022-11-13T22:34:57.731152Z",
     "shell.execute_reply": "2022-11-13T22:34:57.729815Z",
     "shell.execute_reply.started": "2022-11-13T22:34:55.999737Z"
    }
   },
   "outputs": [],
   "source": [
    "train['num_room'] = train.apply(lambda x: 1 if x.num_room==0 else x.num_room, axis=1)\n",
    "train['num_room'] = train.groupby(['sub_area'], sort=False)['num_room'].apply(lambda x: x.fillna(np.floor(x.median())))"
   ]
  },
  {
   "cell_type": "code",
   "execution_count": 43,
   "metadata": {
    "execution": {
     "iopub.execute_input": "2022-11-13T22:34:57.733999Z",
     "iopub.status.busy": "2022-11-13T22:34:57.733594Z",
     "iopub.status.idle": "2022-11-13T22:34:57.742102Z",
     "shell.execute_reply": "2022-11-13T22:34:57.740668Z",
     "shell.execute_reply.started": "2022-11-13T22:34:57.733965Z"
    }
   },
   "outputs": [
    {
     "data": {
      "text/plain": [
       "0"
      ]
     },
     "execution_count": 43,
     "metadata": {},
     "output_type": "execute_result"
    }
   ],
   "source": [
    "train.num_room.isnull().sum()"
   ]
  },
  {
   "cell_type": "markdown",
   "metadata": {},
   "source": [
    "### cafe_avg_price_500"
   ]
  },
  {
   "cell_type": "code",
   "execution_count": 46,
   "metadata": {
    "execution": {
     "iopub.execute_input": "2022-11-13T22:34:59.226318Z",
     "iopub.status.busy": "2022-11-13T22:34:59.225460Z",
     "iopub.status.idle": "2022-11-13T22:34:59.234446Z",
     "shell.execute_reply": "2022-11-13T22:34:59.232783Z",
     "shell.execute_reply.started": "2022-11-13T22:34:59.226262Z"
    }
   },
   "outputs": [],
   "source": [
    "#train.cafe_avg_price_500.min()"
   ]
  },
  {
   "cell_type": "code",
   "execution_count": 47,
   "metadata": {
    "execution": {
     "iopub.execute_input": "2022-11-13T22:35:00.042452Z",
     "iopub.status.busy": "2022-11-13T22:35:00.041873Z",
     "iopub.status.idle": "2022-11-13T22:35:00.052969Z",
     "shell.execute_reply": "2022-11-13T22:35:00.051117Z",
     "shell.execute_reply.started": "2022-11-13T22:35:00.042408Z"
    }
   },
   "outputs": [],
   "source": [
    "#train.cafe_avg_price_500.isnull().sum()"
   ]
  },
  {
   "cell_type": "code",
   "execution_count": 48,
   "metadata": {
    "execution": {
     "iopub.execute_input": "2022-11-13T22:41:51.229522Z",
     "iopub.status.busy": "2022-11-13T22:41:51.228436Z",
     "iopub.status.idle": "2022-11-13T22:41:51.488860Z",
     "shell.execute_reply": "2022-11-13T22:41:51.487356Z",
     "shell.execute_reply.started": "2022-11-13T22:41:51.229475Z"
    }
   },
   "outputs": [],
   "source": [
    "#temp_df = train.groupby(['sub_area'], sort=False)[['cafe_avg_price_500','cafe_avg_price_1000']].apply(lambda x: x.fillna(np.floor(x.mean())))\n",
    "#temp_df"
   ]
  },
  {
   "cell_type": "code",
   "execution_count": 49,
   "metadata": {
    "execution": {
     "iopub.execute_input": "2022-11-13T22:42:15.215213Z",
     "iopub.status.busy": "2022-11-13T22:42:15.214403Z",
     "iopub.status.idle": "2022-11-13T22:42:15.543949Z",
     "shell.execute_reply": "2022-11-13T22:42:15.542594Z",
     "shell.execute_reply.started": "2022-11-13T22:42:15.215173Z"
    }
   },
   "outputs": [],
   "source": [
    "#train['build_year'] = train.groupby(['sub_area'], sort=False)['build_year'].apply(lambda x: x.fillna(np.floor(x.mode())))\n",
    "#train['cafe_avg_price_500'] = train.groupby(['sub_area'], sort=False).apply(lambda x: x.cafe_avg_price_500.fillna(np.floor(x.mode())) if x.cafe_avg_price_500.isnull() else np.floor(x.cafe_avg_price_1000.agg('mean')))\n",
    "#train['cafe_avg_price_500'] = train.groupby(['sub_area'], sort=False)['cafe_avg_price_500'].apply(lambda x: x.fillna(np.floor(x.mean())))\n",
    "#temp_df = train.groupby(['sub_area'], sort=False)[['cafe_avg_price_500','cafe_avg_price_1000']].apply(lambda x: x.fillna(np.floor(x.mean())))\n",
    "#train['cafe_avg_price_500'] = temp_df.apply(lambda x: x.cafe_avg_price_500.fillna(np.floor(x.cafe_avg_price_1000.mean())))"
   ]
  },
  {
   "cell_type": "code",
   "execution_count": 50,
   "metadata": {
    "execution": {
     "iopub.execute_input": "2022-11-13T22:35:10.933172Z",
     "iopub.status.busy": "2022-11-13T22:35:10.932647Z",
     "iopub.status.idle": "2022-11-13T22:35:10.944033Z",
     "shell.execute_reply": "2022-11-13T22:35:10.942666Z",
     "shell.execute_reply.started": "2022-11-13T22:35:10.933131Z"
    }
   },
   "outputs": [],
   "source": [
    "#train.cafe_avg_price_500.isnull().sum()"
   ]
  },
  {
   "cell_type": "code",
   "execution_count": 51,
   "metadata": {
    "execution": {
     "iopub.execute_input": "2022-11-13T22:54:02.836922Z",
     "iopub.status.busy": "2022-11-13T22:54:02.836069Z",
     "iopub.status.idle": "2022-11-13T22:58:40.733039Z",
     "shell.execute_reply": "2022-11-13T22:58:40.731802Z",
     "shell.execute_reply.started": "2022-11-13T22:54:02.836864Z"
    }
   },
   "outputs": [],
   "source": [
    "#for i in train.sub_area:\n",
    "#    if train[(train['cafe_avg_price_500'].isnull()) & (train['sub_area']==i)].shape[0]>0:\n",
    "#        train.loc[(train['cafe_avg_price_500'].isnull()) & (train['sub_area']==i),'cafe_avg_price_500']=train.loc[(train['cafe_avg_price_500'].notnull()) & (train['sub_area']==i),'cafe_avg_price_500'].mean()\n",
    "#    else:\n",
    "#        train.loc[(train['cafe_avg_price_500'].isnull()) & (train['sub_area']==i),'cafe_avg_price_500']=train.loc[(train['cafe_avg_price_1000'].notnull()) & (train['sub_area']==i),'cafe_avg_price_1000'].mean()"
   ]
  },
  {
   "cell_type": "code",
   "execution_count": 52,
   "metadata": {
    "execution": {
     "iopub.execute_input": "2022-11-13T22:58:46.703982Z",
     "iopub.status.busy": "2022-11-13T22:58:46.703579Z",
     "iopub.status.idle": "2022-11-13T22:58:46.713742Z",
     "shell.execute_reply": "2022-11-13T22:58:46.712380Z",
     "shell.execute_reply.started": "2022-11-13T22:58:46.703949Z"
    }
   },
   "outputs": [],
   "source": [
    "#train.cafe_avg_price_500.isnull().sum()"
   ]
  },
  {
   "cell_type": "code",
   "execution_count": null,
   "metadata": {},
   "outputs": [],
   "source": [
    "# State\n",
    "df[\"state\"][df[\"state\"] == 33] = np.NaN\n",
    "df['state'] = df.groupby(['sub_area'], sort=False)['state'].apply(lambda x: x.fillna(np.floor(x.median())))\n",
    "df.loc[(df['state'].isnull()) & (df['sub_area']=='Poselenie Klenovskoe'),'state'] = 2\n",
    "\n",
    "# Max Floor\n",
    "df['max_floor'] = df['max_floor'].apply(lambda x: 90 if x>90 else x)\n",
    "df['max_floor'] = df.groupby(['sub_area'], sort=False)['max_floor'].apply(lambda x: x.fillna(np.floor(x.median())))\n",
    "\n",
    "# Floor\n",
    "df['floor'] = df.apply(lambda x: x.max_floor if x.floor > x.max_floor else x.floor, axis=1)\n",
    "df['floor'] = df.apply(lambda x: 1 if x.floor==0.0 else x.floor, axis=1)\n",
    "df['floor'] = df.groupby(['sub_area'], sort=False)['floor'].apply(lambda x: x.fillna(np.floor(x.median())))\n",
    "\n",
    "# Full Sq\n",
    "df['full_sq'] = df.apply(lambda x: 15 if x.full_sq < 15 else x.full_sq, axis=1)\n",
    "\n",
    "# Life Sq\n",
    "df['life_sq'] = df.apply(lambda x: 10 if x.life_sq < 10 else x.life_sq, axis=1)\n",
    "df['life_sq'] = df.apply(lambda x: x.full_sq if x.life_sq > x.full_sq else x.life_sq, axis=1)\n",
    "df['life_sq'] = df.groupby(['sub_area'], sort=False)['life_sq'].apply(lambda x: x.fillna(np.floor(x.median())))\n",
    "\n",
    "# Kitch Sq\n",
    "df['kitch_sq'] = df.apply(lambda x: (x.life_sq - 20) if ((x.kitch_sq > x.life_sq) & (x.life_sq > 25)) else x.kitch_sq, axis=1)\n",
    "df['kitch_sq'] = df.apply(lambda x: 5 if ((x.kitch_sq > x.life_sq) & (x.life_sq <= 25)) else x.kitch_sq, axis=1)\n",
    "df['kitch_sq'] = df.groupby(['sub_area'], sort=False)['life_sq'].apply(lambda x: x.fillna(np.floor(x.mean())))\n",
    "\n",
    "# Num Room\n",
    "df['num_room'] = df.apply(lambda x: 1 if x.num_room==0 else x.num_room, axis=1)\n",
    "df['num_room'] = df.groupby(['sub_area'], sort=False)['num_room'].apply(lambda x: x.fillna(np.floor(x.median())))"
   ]
  }
 ],
 "metadata": {
  "kernelspec": {
   "display_name": "Python 3",
   "language": "python",
   "name": "python3"
  },
  "language_info": {
   "codemirror_mode": {
    "name": "ipython",
    "version": 3
   },
   "file_extension": ".py",
   "mimetype": "text/x-python",
   "name": "python",
   "nbconvert_exporter": "python",
   "pygments_lexer": "ipython3",
   "version": "3.8.3"
  }
 },
 "nbformat": 4,
 "nbformat_minor": 4
}
